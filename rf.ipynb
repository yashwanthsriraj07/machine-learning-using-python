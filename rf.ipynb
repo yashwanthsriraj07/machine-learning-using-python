{
 "cells": [
  {
   "cell_type": "markdown",
   "id": "d839feb2",
   "metadata": {
    "papermill": {
     "duration": 0.011062,
     "end_time": "2024-05-21T12:51:20.284613",
     "exception": false,
     "start_time": "2024-05-21T12:51:20.273551",
     "status": "completed"
    },
    "tags": []
   },
   "source": [
    "## Weather Prediction - Classification with Random Forest"
   ]
  },
  {
   "cell_type": "code",
   "execution_count": 1,
   "id": "6bb959e0",
   "metadata": {
    "_cell_guid": "b1076dfc-b9ad-4769-8c92-a6c4dae69d19",
    "_uuid": "8f2839f25d086af736a60e9eeb907d3b93b6e0e5",
    "execution": {
     "iopub.execute_input": "2024-05-21T12:51:20.307388Z",
     "iopub.status.busy": "2024-05-21T12:51:20.306935Z",
     "iopub.status.idle": "2024-05-21T12:51:22.668188Z",
     "shell.execute_reply": "2024-05-21T12:51:22.667073Z"
    },
    "papermill": {
     "duration": 2.375914,
     "end_time": "2024-05-21T12:51:22.670962",
     "exception": false,
     "start_time": "2024-05-21T12:51:20.295048",
     "status": "completed"
    },
    "tags": []
   },
   "outputs": [],
   "source": [
    "import pandas as pd\n",
    "import matplotlib.pyplot as plt\n",
    "import numpy as np\n",
    "import seaborn as sns"
   ]
  },
  {
   "cell_type": "code",
   "execution_count": 2,
   "id": "42721721",
   "metadata": {
    "execution": {
     "iopub.execute_input": "2024-05-21T12:51:22.694554Z",
     "iopub.status.busy": "2024-05-21T12:51:22.693389Z",
     "iopub.status.idle": "2024-05-21T12:51:22.742982Z",
     "shell.execute_reply": "2024-05-21T12:51:22.741478Z"
    },
    "papermill": {
     "duration": 0.064558,
     "end_time": "2024-05-21T12:51:22.745912",
     "exception": false,
     "start_time": "2024-05-21T12:51:22.681354",
     "status": "completed"
    },
    "tags": []
   },
   "outputs": [
    {
     "data": {
      "text/html": [
       "<div>\n",
       "<style scoped>\n",
       "    .dataframe tbody tr th:only-of-type {\n",
       "        vertical-align: middle;\n",
       "    }\n",
       "\n",
       "    .dataframe tbody tr th {\n",
       "        vertical-align: top;\n",
       "    }\n",
       "\n",
       "    .dataframe thead th {\n",
       "        text-align: right;\n",
       "    }\n",
       "</style>\n",
       "<table border=\"1\" class=\"dataframe\">\n",
       "  <thead>\n",
       "    <tr style=\"text-align: right;\">\n",
       "      <th></th>\n",
       "      <th>date</th>\n",
       "      <th>precipitation</th>\n",
       "      <th>temp_max</th>\n",
       "      <th>temp_min</th>\n",
       "      <th>wind</th>\n",
       "      <th>weather</th>\n",
       "    </tr>\n",
       "  </thead>\n",
       "  <tbody>\n",
       "    <tr>\n",
       "      <th>0</th>\n",
       "      <td>2012-01-01</td>\n",
       "      <td>0.0</td>\n",
       "      <td>12.8</td>\n",
       "      <td>5.0</td>\n",
       "      <td>4.7</td>\n",
       "      <td>drizzle</td>\n",
       "    </tr>\n",
       "    <tr>\n",
       "      <th>1</th>\n",
       "      <td>2012-01-02</td>\n",
       "      <td>10.9</td>\n",
       "      <td>10.6</td>\n",
       "      <td>2.8</td>\n",
       "      <td>4.5</td>\n",
       "      <td>rain</td>\n",
       "    </tr>\n",
       "    <tr>\n",
       "      <th>2</th>\n",
       "      <td>2012-01-03</td>\n",
       "      <td>0.8</td>\n",
       "      <td>11.7</td>\n",
       "      <td>7.2</td>\n",
       "      <td>2.3</td>\n",
       "      <td>rain</td>\n",
       "    </tr>\n",
       "    <tr>\n",
       "      <th>3</th>\n",
       "      <td>2012-01-04</td>\n",
       "      <td>20.3</td>\n",
       "      <td>12.2</td>\n",
       "      <td>5.6</td>\n",
       "      <td>4.7</td>\n",
       "      <td>rain</td>\n",
       "    </tr>\n",
       "    <tr>\n",
       "      <th>4</th>\n",
       "      <td>2012-01-05</td>\n",
       "      <td>1.3</td>\n",
       "      <td>8.9</td>\n",
       "      <td>2.8</td>\n",
       "      <td>6.1</td>\n",
       "      <td>rain</td>\n",
       "    </tr>\n",
       "  </tbody>\n",
       "</table>\n",
       "</div>"
      ],
      "text/plain": [
       "         date  precipitation  temp_max  temp_min  wind  weather\n",
       "0  2012-01-01            0.0      12.8       5.0   4.7  drizzle\n",
       "1  2012-01-02           10.9      10.6       2.8   4.5     rain\n",
       "2  2012-01-03            0.8      11.7       7.2   2.3     rain\n",
       "3  2012-01-04           20.3      12.2       5.6   4.7     rain\n",
       "4  2012-01-05            1.3       8.9       2.8   6.1     rain"
      ]
     },
     "execution_count": 2,
     "metadata": {},
     "output_type": "execute_result"
    }
   ],
   "source": [
    "raw_df = pd.read_csv(\"seattle-weather.csv\")\n",
    "df = raw_df\n",
    "df.head()"
   ]
  },
  {
   "cell_type": "code",
   "execution_count": 3,
   "id": "445c0b84",
   "metadata": {
    "execution": {
     "iopub.execute_input": "2024-05-21T12:51:22.769448Z",
     "iopub.status.busy": "2024-05-21T12:51:22.768466Z",
     "iopub.status.idle": "2024-05-21T12:51:22.780545Z",
     "shell.execute_reply": "2024-05-21T12:51:22.779313Z"
    },
    "papermill": {
     "duration": 0.026883,
     "end_time": "2024-05-21T12:51:22.783427",
     "exception": false,
     "start_time": "2024-05-21T12:51:22.756544",
     "status": "completed"
    },
    "tags": []
   },
   "outputs": [],
   "source": [
    "df.drop(\"date\", axis=1, inplace=True)\n",
    "## We don't need to have date info"
   ]
  },
  {
   "cell_type": "code",
   "execution_count": 4,
   "id": "d8d6d7e5",
   "metadata": {
    "execution": {
     "iopub.execute_input": "2024-05-21T12:51:22.806693Z",
     "iopub.status.busy": "2024-05-21T12:51:22.806280Z",
     "iopub.status.idle": "2024-05-21T12:51:22.835906Z",
     "shell.execute_reply": "2024-05-21T12:51:22.834943Z"
    },
    "papermill": {
     "duration": 0.04441,
     "end_time": "2024-05-21T12:51:22.838683",
     "exception": false,
     "start_time": "2024-05-21T12:51:22.794273",
     "status": "completed"
    },
    "tags": []
   },
   "outputs": [
    {
     "name": "stdout",
     "output_type": "stream",
     "text": [
      "<class 'pandas.core.frame.DataFrame'>\n",
      "RangeIndex: 1461 entries, 0 to 1460\n",
      "Data columns (total 5 columns):\n",
      " #   Column         Non-Null Count  Dtype  \n",
      "---  ------         --------------  -----  \n",
      " 0   precipitation  1461 non-null   float64\n",
      " 1   temp_max       1461 non-null   float64\n",
      " 2   temp_min       1461 non-null   float64\n",
      " 3   wind           1461 non-null   float64\n",
      " 4   weather        1461 non-null   object \n",
      "dtypes: float64(4), object(1)\n",
      "memory usage: 57.2+ KB\n"
     ]
    },
    {
     "data": {
      "text/plain": [
       "0"
      ]
     },
     "execution_count": 4,
     "metadata": {},
     "output_type": "execute_result"
    }
   ],
   "source": [
    "df.info()\n",
    "df.isna().sum().sum()\n",
    "\n",
    "## There is no empty cell"
   ]
  },
  {
   "cell_type": "code",
   "execution_count": 5,
   "id": "8e4217bd",
   "metadata": {
    "execution": {
     "iopub.execute_input": "2024-05-21T12:51:22.862407Z",
     "iopub.status.busy": "2024-05-21T12:51:22.862027Z",
     "iopub.status.idle": "2024-05-21T12:51:22.888634Z",
     "shell.execute_reply": "2024-05-21T12:51:22.887395Z"
    },
    "papermill": {
     "duration": 0.041767,
     "end_time": "2024-05-21T12:51:22.891405",
     "exception": false,
     "start_time": "2024-05-21T12:51:22.849638",
     "status": "completed"
    },
    "tags": []
   },
   "outputs": [
    {
     "data": {
      "text/html": [
       "<div>\n",
       "<style scoped>\n",
       "    .dataframe tbody tr th:only-of-type {\n",
       "        vertical-align: middle;\n",
       "    }\n",
       "\n",
       "    .dataframe tbody tr th {\n",
       "        vertical-align: top;\n",
       "    }\n",
       "\n",
       "    .dataframe thead th {\n",
       "        text-align: right;\n",
       "    }\n",
       "</style>\n",
       "<table border=\"1\" class=\"dataframe\">\n",
       "  <thead>\n",
       "    <tr style=\"text-align: right;\">\n",
       "      <th></th>\n",
       "      <th>precipitation</th>\n",
       "      <th>temp_max</th>\n",
       "      <th>temp_min</th>\n",
       "      <th>wind</th>\n",
       "    </tr>\n",
       "  </thead>\n",
       "  <tbody>\n",
       "    <tr>\n",
       "      <th>count</th>\n",
       "      <td>1461.000000</td>\n",
       "      <td>1461.000000</td>\n",
       "      <td>1461.000000</td>\n",
       "      <td>1461.000000</td>\n",
       "    </tr>\n",
       "    <tr>\n",
       "      <th>mean</th>\n",
       "      <td>3.029432</td>\n",
       "      <td>16.439083</td>\n",
       "      <td>8.234771</td>\n",
       "      <td>3.241136</td>\n",
       "    </tr>\n",
       "    <tr>\n",
       "      <th>std</th>\n",
       "      <td>6.680194</td>\n",
       "      <td>7.349758</td>\n",
       "      <td>5.023004</td>\n",
       "      <td>1.437825</td>\n",
       "    </tr>\n",
       "    <tr>\n",
       "      <th>min</th>\n",
       "      <td>0.000000</td>\n",
       "      <td>-1.600000</td>\n",
       "      <td>-7.100000</td>\n",
       "      <td>0.400000</td>\n",
       "    </tr>\n",
       "    <tr>\n",
       "      <th>25%</th>\n",
       "      <td>0.000000</td>\n",
       "      <td>10.600000</td>\n",
       "      <td>4.400000</td>\n",
       "      <td>2.200000</td>\n",
       "    </tr>\n",
       "    <tr>\n",
       "      <th>50%</th>\n",
       "      <td>0.000000</td>\n",
       "      <td>15.600000</td>\n",
       "      <td>8.300000</td>\n",
       "      <td>3.000000</td>\n",
       "    </tr>\n",
       "    <tr>\n",
       "      <th>75%</th>\n",
       "      <td>2.800000</td>\n",
       "      <td>22.200000</td>\n",
       "      <td>12.200000</td>\n",
       "      <td>4.000000</td>\n",
       "    </tr>\n",
       "    <tr>\n",
       "      <th>max</th>\n",
       "      <td>55.900000</td>\n",
       "      <td>35.600000</td>\n",
       "      <td>18.300000</td>\n",
       "      <td>9.500000</td>\n",
       "    </tr>\n",
       "  </tbody>\n",
       "</table>\n",
       "</div>"
      ],
      "text/plain": [
       "       precipitation     temp_max     temp_min         wind\n",
       "count    1461.000000  1461.000000  1461.000000  1461.000000\n",
       "mean        3.029432    16.439083     8.234771     3.241136\n",
       "std         6.680194     7.349758     5.023004     1.437825\n",
       "min         0.000000    -1.600000    -7.100000     0.400000\n",
       "25%         0.000000    10.600000     4.400000     2.200000\n",
       "50%         0.000000    15.600000     8.300000     3.000000\n",
       "75%         2.800000    22.200000    12.200000     4.000000\n",
       "max        55.900000    35.600000    18.300000     9.500000"
      ]
     },
     "execution_count": 5,
     "metadata": {},
     "output_type": "execute_result"
    }
   ],
   "source": [
    "df.describe()"
   ]
  },
  {
   "cell_type": "markdown",
   "id": "8ddcfdd7",
   "metadata": {
    "papermill": {
     "duration": 0.012282,
     "end_time": "2024-05-21T12:51:22.915004",
     "exception": false,
     "start_time": "2024-05-21T12:51:22.902722",
     "status": "completed"
    },
    "tags": []
   },
   "source": [
    "## Preparing Data for Classification"
   ]
  },
  {
   "cell_type": "code",
   "execution_count": 6,
   "id": "5691a03d",
   "metadata": {
    "execution": {
     "iopub.execute_input": "2024-05-21T12:51:22.940172Z",
     "iopub.status.busy": "2024-05-21T12:51:22.939092Z",
     "iopub.status.idle": "2024-05-21T12:51:22.945341Z",
     "shell.execute_reply": "2024-05-21T12:51:22.944272Z"
    },
    "papermill": {
     "duration": 0.021809,
     "end_time": "2024-05-21T12:51:22.947837",
     "exception": false,
     "start_time": "2024-05-21T12:51:22.926028",
     "status": "completed"
    },
    "tags": []
   },
   "outputs": [],
   "source": [
    "X = df.drop(\"weather\" ,axis=1)\n",
    "y = df[\"weather\"]"
   ]
  },
  {
   "cell_type": "code",
   "execution_count": 7,
   "id": "c3b9ec41",
   "metadata": {
    "execution": {
     "iopub.execute_input": "2024-05-21T12:51:22.972043Z",
     "iopub.status.busy": "2024-05-21T12:51:22.971649Z",
     "iopub.status.idle": "2024-05-21T12:51:23.342065Z",
     "shell.execute_reply": "2024-05-21T12:51:23.340852Z"
    },
    "papermill": {
     "duration": 0.385927,
     "end_time": "2024-05-21T12:51:23.345123",
     "exception": false,
     "start_time": "2024-05-21T12:51:22.959196",
     "status": "completed"
    },
    "tags": []
   },
   "outputs": [],
   "source": [
    "from sklearn.model_selection import train_test_split\n",
    "X_train, X_test, y_train, y_test = train_test_split(X, y, test_size=0.2, random_state=9)"
   ]
  },
  {
   "cell_type": "markdown",
   "id": "fab3635e",
   "metadata": {
    "papermill": {
     "duration": 0.011059,
     "end_time": "2024-05-21T12:51:23.368351",
     "exception": false,
     "start_time": "2024-05-21T12:51:23.357292",
     "status": "completed"
    },
    "tags": []
   },
   "source": [
    "## Grid Search and Random Forest"
   ]
  },
  {
   "cell_type": "code",
   "execution_count": 8,
   "id": "9bd83573",
   "metadata": {
    "execution": {
     "iopub.execute_input": "2024-05-21T12:51:23.393266Z",
     "iopub.status.busy": "2024-05-21T12:51:23.392860Z",
     "iopub.status.idle": "2024-05-21T12:51:23.675346Z",
     "shell.execute_reply": "2024-05-21T12:51:23.673780Z"
    },
    "papermill": {
     "duration": 0.298286,
     "end_time": "2024-05-21T12:51:23.678277",
     "exception": false,
     "start_time": "2024-05-21T12:51:23.379991",
     "status": "completed"
    },
    "tags": []
   },
   "outputs": [],
   "source": [
    "from sklearn.model_selection import GridSearchCV;\n",
    "from sklearn.ensemble import RandomForestClassifier"
   ]
  },
  {
   "cell_type": "code",
   "execution_count": 9,
   "id": "699e9db5",
   "metadata": {
    "execution": {
     "iopub.execute_input": "2024-05-21T12:51:23.703731Z",
     "iopub.status.busy": "2024-05-21T12:51:23.702696Z",
     "iopub.status.idle": "2024-05-21T12:51:23.708999Z",
     "shell.execute_reply": "2024-05-21T12:51:23.707599Z"
    },
    "papermill": {
     "duration": 0.022232,
     "end_time": "2024-05-21T12:51:23.711762",
     "exception": false,
     "start_time": "2024-05-21T12:51:23.689530",
     "status": "completed"
    },
    "tags": []
   },
   "outputs": [],
   "source": [
    "n_est=np.arange(30,60)      ## You can try a wider range but n_est for the best accuracy_score is about 50\n",
    "max_feat = np.arange(1,10)\n",
    "bootstrap_sec = [True]\n",
    "oob = [True, False]"
   ]
  },
  {
   "cell_type": "code",
   "execution_count": 10,
   "id": "0ebef937",
   "metadata": {
    "execution": {
     "iopub.execute_input": "2024-05-21T12:51:23.737865Z",
     "iopub.status.busy": "2024-05-21T12:51:23.736948Z",
     "iopub.status.idle": "2024-05-21T12:51:23.742897Z",
     "shell.execute_reply": "2024-05-21T12:51:23.741451Z"
    },
    "papermill": {
     "duration": 0.020973,
     "end_time": "2024-05-21T12:51:23.745386",
     "exception": false,
     "start_time": "2024-05-21T12:51:23.724413",
     "status": "completed"
    },
    "tags": []
   },
   "outputs": [],
   "source": [
    "parameters = {\n",
    "    \"n_estimators\" : n_est,\n",
    "    \"max_features\": max_feat,\n",
    "    \"bootstrap\" : bootstrap_sec,\n",
    "    \"oob_score\" : oob}"
   ]
  },
  {
   "cell_type": "code",
   "execution_count": 11,
   "id": "2e624229",
   "metadata": {
    "execution": {
     "iopub.execute_input": "2024-05-21T12:51:23.770846Z",
     "iopub.status.busy": "2024-05-21T12:51:23.769479Z",
     "iopub.status.idle": "2024-05-21T12:51:23.775658Z",
     "shell.execute_reply": "2024-05-21T12:51:23.774216Z"
    },
    "papermill": {
     "duration": 0.021231,
     "end_time": "2024-05-21T12:51:23.778202",
     "exception": false,
     "start_time": "2024-05-21T12:51:23.756971",
     "status": "completed"
    },
    "tags": []
   },
   "outputs": [],
   "source": [
    "random_forest = RandomForestClassifier()"
   ]
  },
  {
   "cell_type": "code",
   "execution_count": 12,
   "id": "4178e590",
   "metadata": {
    "execution": {
     "iopub.execute_input": "2024-05-21T12:51:23.802647Z",
     "iopub.status.busy": "2024-05-21T12:51:23.801751Z",
     "iopub.status.idle": "2024-05-21T12:51:23.807901Z",
     "shell.execute_reply": "2024-05-21T12:51:23.806437Z"
    },
    "papermill": {
     "duration": 0.021105,
     "end_time": "2024-05-21T12:51:23.810357",
     "exception": false,
     "start_time": "2024-05-21T12:51:23.789252",
     "status": "completed"
    },
    "tags": []
   },
   "outputs": [],
   "source": [
    "grid = GridSearchCV(random_forest, parameters, error_score=\"raise\")"
   ]
  },
  {
   "cell_type": "code",
   "execution_count": 13,
   "id": "6f498f72",
   "metadata": {
    "execution": {
     "iopub.execute_input": "2024-05-21T12:51:23.834686Z",
     "iopub.status.busy": "2024-05-21T12:51:23.834207Z",
     "iopub.status.idle": "2024-05-21T12:59:06.562859Z",
     "shell.execute_reply": "2024-05-21T12:59:06.561643Z"
    },
    "papermill": {
     "duration": 462.755371,
     "end_time": "2024-05-21T12:59:06.577014",
     "exception": false,
     "start_time": "2024-05-21T12:51:23.821643",
     "status": "completed"
    },
    "tags": []
   },
   "outputs": [
    {
     "data": {
      "text/html": [
       "<style>#sk-container-id-1 {color: black;background-color: white;}#sk-container-id-1 pre{padding: 0;}#sk-container-id-1 div.sk-toggleable {background-color: white;}#sk-container-id-1 label.sk-toggleable__label {cursor: pointer;display: block;width: 100%;margin-bottom: 0;padding: 0.3em;box-sizing: border-box;text-align: center;}#sk-container-id-1 label.sk-toggleable__label-arrow:before {content: \"▸\";float: left;margin-right: 0.25em;color: #696969;}#sk-container-id-1 label.sk-toggleable__label-arrow:hover:before {color: black;}#sk-container-id-1 div.sk-estimator:hover label.sk-toggleable__label-arrow:before {color: black;}#sk-container-id-1 div.sk-toggleable__content {max-height: 0;max-width: 0;overflow: hidden;text-align: left;background-color: #f0f8ff;}#sk-container-id-1 div.sk-toggleable__content pre {margin: 0.2em;color: black;border-radius: 0.25em;background-color: #f0f8ff;}#sk-container-id-1 input.sk-toggleable__control:checked~div.sk-toggleable__content {max-height: 200px;max-width: 100%;overflow: auto;}#sk-container-id-1 input.sk-toggleable__control:checked~label.sk-toggleable__label-arrow:before {content: \"▾\";}#sk-container-id-1 div.sk-estimator input.sk-toggleable__control:checked~label.sk-toggleable__label {background-color: #d4ebff;}#sk-container-id-1 div.sk-label input.sk-toggleable__control:checked~label.sk-toggleable__label {background-color: #d4ebff;}#sk-container-id-1 input.sk-hidden--visually {border: 0;clip: rect(1px 1px 1px 1px);clip: rect(1px, 1px, 1px, 1px);height: 1px;margin: -1px;overflow: hidden;padding: 0;position: absolute;width: 1px;}#sk-container-id-1 div.sk-estimator {font-family: monospace;background-color: #f0f8ff;border: 1px dotted black;border-radius: 0.25em;box-sizing: border-box;margin-bottom: 0.5em;}#sk-container-id-1 div.sk-estimator:hover {background-color: #d4ebff;}#sk-container-id-1 div.sk-parallel-item::after {content: \"\";width: 100%;border-bottom: 1px solid gray;flex-grow: 1;}#sk-container-id-1 div.sk-label:hover label.sk-toggleable__label {background-color: #d4ebff;}#sk-container-id-1 div.sk-serial::before {content: \"\";position: absolute;border-left: 1px solid gray;box-sizing: border-box;top: 0;bottom: 0;left: 50%;z-index: 0;}#sk-container-id-1 div.sk-serial {display: flex;flex-direction: column;align-items: center;background-color: white;padding-right: 0.2em;padding-left: 0.2em;position: relative;}#sk-container-id-1 div.sk-item {position: relative;z-index: 1;}#sk-container-id-1 div.sk-parallel {display: flex;align-items: stretch;justify-content: center;background-color: white;position: relative;}#sk-container-id-1 div.sk-item::before, #sk-container-id-1 div.sk-parallel-item::before {content: \"\";position: absolute;border-left: 1px solid gray;box-sizing: border-box;top: 0;bottom: 0;left: 50%;z-index: -1;}#sk-container-id-1 div.sk-parallel-item {display: flex;flex-direction: column;z-index: 1;position: relative;background-color: white;}#sk-container-id-1 div.sk-parallel-item:first-child::after {align-self: flex-end;width: 50%;}#sk-container-id-1 div.sk-parallel-item:last-child::after {align-self: flex-start;width: 50%;}#sk-container-id-1 div.sk-parallel-item:only-child::after {width: 0;}#sk-container-id-1 div.sk-dashed-wrapped {border: 1px dashed gray;margin: 0 0.4em 0.5em 0.4em;box-sizing: border-box;padding-bottom: 0.4em;background-color: white;}#sk-container-id-1 div.sk-label label {font-family: monospace;font-weight: bold;display: inline-block;line-height: 1.2em;}#sk-container-id-1 div.sk-label-container {text-align: center;}#sk-container-id-1 div.sk-container {/* jupyter's `normalize.less` sets `[hidden] { display: none; }` but bootstrap.min.css set `[hidden] { display: none !important; }` so we also need the `!important` here to be able to override the default hidden behavior on the sphinx rendered scikit-learn.org. See: https://github.com/scikit-learn/scikit-learn/issues/21755 */display: inline-block !important;position: relative;}#sk-container-id-1 div.sk-text-repr-fallback {display: none;}</style><div id=\"sk-container-id-1\" class=\"sk-top-container\"><div class=\"sk-text-repr-fallback\"><pre>GridSearchCV(error_score=&#x27;raise&#x27;, estimator=RandomForestClassifier(),\n",
       "             param_grid={&#x27;bootstrap&#x27;: [True],\n",
       "                         &#x27;max_features&#x27;: array([1, 2, 3, 4, 5, 6, 7, 8, 9]),\n",
       "                         &#x27;n_estimators&#x27;: array([30, 31, 32, 33, 34, 35, 36, 37, 38, 39, 40, 41, 42, 43, 44, 45, 46,\n",
       "       47, 48, 49, 50, 51, 52, 53, 54, 55, 56, 57, 58, 59]),\n",
       "                         &#x27;oob_score&#x27;: [True, False]})</pre><b>In a Jupyter environment, please rerun this cell to show the HTML representation or trust the notebook. <br />On GitHub, the HTML representation is unable to render, please try loading this page with nbviewer.org.</b></div><div class=\"sk-container\" hidden><div class=\"sk-item sk-dashed-wrapped\"><div class=\"sk-label-container\"><div class=\"sk-label sk-toggleable\"><input class=\"sk-toggleable__control sk-hidden--visually\" id=\"sk-estimator-id-1\" type=\"checkbox\" ><label for=\"sk-estimator-id-1\" class=\"sk-toggleable__label sk-toggleable__label-arrow\">GridSearchCV</label><div class=\"sk-toggleable__content\"><pre>GridSearchCV(error_score=&#x27;raise&#x27;, estimator=RandomForestClassifier(),\n",
       "             param_grid={&#x27;bootstrap&#x27;: [True],\n",
       "                         &#x27;max_features&#x27;: array([1, 2, 3, 4, 5, 6, 7, 8, 9]),\n",
       "                         &#x27;n_estimators&#x27;: array([30, 31, 32, 33, 34, 35, 36, 37, 38, 39, 40, 41, 42, 43, 44, 45, 46,\n",
       "       47, 48, 49, 50, 51, 52, 53, 54, 55, 56, 57, 58, 59]),\n",
       "                         &#x27;oob_score&#x27;: [True, False]})</pre></div></div></div><div class=\"sk-parallel\"><div class=\"sk-parallel-item\"><div class=\"sk-item\"><div class=\"sk-label-container\"><div class=\"sk-label sk-toggleable\"><input class=\"sk-toggleable__control sk-hidden--visually\" id=\"sk-estimator-id-2\" type=\"checkbox\" ><label for=\"sk-estimator-id-2\" class=\"sk-toggleable__label sk-toggleable__label-arrow\">estimator: RandomForestClassifier</label><div class=\"sk-toggleable__content\"><pre>RandomForestClassifier()</pre></div></div></div><div class=\"sk-serial\"><div class=\"sk-item\"><div class=\"sk-estimator sk-toggleable\"><input class=\"sk-toggleable__control sk-hidden--visually\" id=\"sk-estimator-id-3\" type=\"checkbox\" ><label for=\"sk-estimator-id-3\" class=\"sk-toggleable__label sk-toggleable__label-arrow\">RandomForestClassifier</label><div class=\"sk-toggleable__content\"><pre>RandomForestClassifier()</pre></div></div></div></div></div></div></div></div></div></div>"
      ],
      "text/plain": [
       "GridSearchCV(error_score='raise', estimator=RandomForestClassifier(),\n",
       "             param_grid={'bootstrap': [True],\n",
       "                         'max_features': array([1, 2, 3, 4, 5, 6, 7, 8, 9]),\n",
       "                         'n_estimators': array([30, 31, 32, 33, 34, 35, 36, 37, 38, 39, 40, 41, 42, 43, 44, 45, 46,\n",
       "       47, 48, 49, 50, 51, 52, 53, 54, 55, 56, 57, 58, 59]),\n",
       "                         'oob_score': [True, False]})"
      ]
     },
     "execution_count": 13,
     "metadata": {},
     "output_type": "execute_result"
    }
   ],
   "source": [
    "grid.fit(X_train, y_train)"
   ]
  },
  {
   "cell_type": "code",
   "execution_count": 14,
   "id": "bfcf85d1",
   "metadata": {
    "execution": {
     "iopub.execute_input": "2024-05-21T12:59:06.603346Z",
     "iopub.status.busy": "2024-05-21T12:59:06.602929Z",
     "iopub.status.idle": "2024-05-21T12:59:06.610363Z",
     "shell.execute_reply": "2024-05-21T12:59:06.609339Z"
    },
    "papermill": {
     "duration": 0.022923,
     "end_time": "2024-05-21T12:59:06.613045",
     "exception": false,
     "start_time": "2024-05-21T12:59:06.590122",
     "status": "completed"
    },
    "tags": []
   },
   "outputs": [
    {
     "data": {
      "text/plain": [
       "(RandomForestClassifier(max_features=1, n_estimators=52),\n",
       " {'bootstrap': True,\n",
       "  'max_features': 1,\n",
       "  'n_estimators': 52,\n",
       "  'oob_score': False})"
      ]
     },
     "execution_count": 14,
     "metadata": {},
     "output_type": "execute_result"
    }
   ],
   "source": [
    "grid.best_estimator_, grid.best_params_"
   ]
  },
  {
   "cell_type": "code",
   "execution_count": 15,
   "id": "cd09912e",
   "metadata": {
    "execution": {
     "iopub.execute_input": "2024-05-21T12:59:06.640660Z",
     "iopub.status.busy": "2024-05-21T12:59:06.639603Z",
     "iopub.status.idle": "2024-05-21T12:59:06.652350Z",
     "shell.execute_reply": "2024-05-21T12:59:06.651002Z"
    },
    "papermill": {
     "duration": 0.029718,
     "end_time": "2024-05-21T12:59:06.655042",
     "exception": false,
     "start_time": "2024-05-21T12:59:06.625324",
     "status": "completed"
    },
    "tags": []
   },
   "outputs": [],
   "source": [
    "weather_pred = grid.predict(X_test)"
   ]
  },
  {
   "cell_type": "code",
   "execution_count": 16,
   "id": "8817395f",
   "metadata": {
    "execution": {
     "iopub.execute_input": "2024-05-21T12:59:06.681050Z",
     "iopub.status.busy": "2024-05-21T12:59:06.680630Z",
     "iopub.status.idle": "2024-05-21T12:59:06.686719Z",
     "shell.execute_reply": "2024-05-21T12:59:06.685356Z"
    },
    "papermill": {
     "duration": 0.023243,
     "end_time": "2024-05-21T12:59:06.689850",
     "exception": false,
     "start_time": "2024-05-21T12:59:06.666607",
     "status": "completed"
    },
    "tags": []
   },
   "outputs": [],
   "source": [
    "from sklearn.metrics import confusion_matrix, ConfusionMatrixDisplay, classification_report, accuracy_score"
   ]
  },
  {
   "cell_type": "code",
   "execution_count": 17,
   "id": "dc625e2d",
   "metadata": {
    "execution": {
     "iopub.execute_input": "2024-05-21T12:59:06.716312Z",
     "iopub.status.busy": "2024-05-21T12:59:06.715913Z",
     "iopub.status.idle": "2024-05-21T12:59:07.229887Z",
     "shell.execute_reply": "2024-05-21T12:59:07.228804Z"
    },
    "papermill": {
     "duration": 0.529602,
     "end_time": "2024-05-21T12:59:07.232610",
     "exception": false,
     "start_time": "2024-05-21T12:59:06.703008",
     "status": "completed"
    },
    "tags": []
   },
   "outputs": [
    {
     "name": "stdout",
     "output_type": "stream",
     "text": [
      "              precision    recall  f1-score   support\n",
      "\n",
      "     drizzle       0.20      0.14      0.17         7\n",
      "         fog       0.27      0.13      0.18        23\n",
      "        rain       0.98      0.89      0.94       130\n",
      "        snow       1.00      0.50      0.67         4\n",
      "         sun       0.76      0.93      0.84       129\n",
      "\n",
      "    accuracy                           0.83       293\n",
      "   macro avg       0.64      0.52      0.56       293\n",
      "weighted avg       0.81      0.83      0.81       293\n",
      " \n",
      "\n"
     ]
    },
    {
     "data": {
      "text/plain": [
       "<Figure size 2400x1600 with 0 Axes>"
      ]
     },
     "execution_count": 17,
     "metadata": {},
     "output_type": "execute_result"
    },
    {
     "data": {
      "image/png": "[encoded data removed]",
      "text/plain": [
       "<Figure size 640x480 with 2 Axes>"
      ]
     },
     "metadata": {},
     "output_type": "display_data"
    },
    {
     "data": {
      "text/plain": [
       "<Figure size 2400x1600 with 0 Axes>"
      ]
     },
     "metadata": {},
     "output_type": "display_data"
    }
   ],
   "source": [
    "ConfusionMatrixDisplay.from_estimator(grid, X_test, y_test)\n",
    "print(classification_report(y_test, weather_pred), \"\\n\")\n",
    "plt.figure(figsize=(12,8), dpi=200)"
   ]
  },
  {
   "cell_type": "code",
   "execution_count": 18,
   "id": "b87590c7",
   "metadata": {
    "execution": {
     "iopub.execute_input": "2024-05-21T12:59:07.260124Z",
     "iopub.status.busy": "2024-05-21T12:59:07.259150Z",
     "iopub.status.idle": "2024-05-21T12:59:07.674193Z",
     "shell.execute_reply": "2024-05-21T12:59:07.673055Z"
    },
    "papermill": {
     "duration": 0.431332,
     "end_time": "2024-05-21T12:59:07.676656",
     "exception": false,
     "start_time": "2024-05-21T12:59:07.245324",
     "status": "completed"
    },
    "tags": []
   },
   "outputs": [
    {
     "data": {
      "text/plain": [
       "<sklearn.metrics._plot.confusion_matrix.ConfusionMatrixDisplay at 0x2a2caa3f0a0>"
      ]
     },
     "execution_count": 18,
     "metadata": {},
     "output_type": "execute_result"
    },
    {
     "data": {
      "image/png": "[encoded data removed]",
      "text/plain": [
       "<Figure size 640x480 with 2 Axes>"
      ]
     },
     "metadata": {},
     "output_type": "display_data"
    }
   ],
   "source": [
    "ConfusionMatrixDisplay.from_estimator(grid, X_test, y_test, normalize=\"true\")"
   ]
  },
  {
   "cell_type": "markdown",
   "id": "ed4f0626",
   "metadata": {
    "papermill": {
     "duration": 0.012901,
     "end_time": "2024-05-21T12:59:07.702752",
     "exception": false,
     "start_time": "2024-05-21T12:59:07.689851",
     "status": "completed"
    },
    "tags": []
   },
   "source": [
    "## Clearing More"
   ]
  },
  {
   "cell_type": "code",
   "execution_count": 19,
   "id": "272bb1d6",
   "metadata": {
    "execution": {
     "iopub.execute_input": "2024-05-21T12:59:07.731551Z",
     "iopub.status.busy": "2024-05-21T12:59:07.730477Z",
     "iopub.status.idle": "2024-05-21T12:59:07.735239Z",
     "shell.execute_reply": "2024-05-21T12:59:07.734178Z"
    },
    "papermill": {
     "duration": 0.021665,
     "end_time": "2024-05-21T12:59:07.737654",
     "exception": false,
     "start_time": "2024-05-21T12:59:07.715989",
     "status": "completed"
    },
    "tags": []
   },
   "outputs": [],
   "source": [
    "## Obviously the data don't let algorithm to recognize whether it is fog or drizzle\n",
    "## Let's make them out and try again, then."
   ]
  },
  {
   "cell_type": "code",
   "execution_count": 20,
   "id": "239f9896",
   "metadata": {
    "execution": {
     "iopub.execute_input": "2024-05-21T12:59:07.766368Z",
     "iopub.status.busy": "2024-05-21T12:59:07.765587Z",
     "iopub.status.idle": "2024-05-21T12:59:07.780211Z",
     "shell.execute_reply": "2024-05-21T12:59:07.779138Z"
    },
    "papermill": {
     "duration": 0.031676,
     "end_time": "2024-05-21T12:59:07.782814",
     "exception": false,
     "start_time": "2024-05-21T12:59:07.751138",
     "status": "completed"
    },
    "tags": []
   },
   "outputs": [
    {
     "data": {
      "text/html": [
       "<div>\n",
       "<style scoped>\n",
       "    .dataframe tbody tr th:only-of-type {\n",
       "        vertical-align: middle;\n",
       "    }\n",
       "\n",
       "    .dataframe tbody tr th {\n",
       "        vertical-align: top;\n",
       "    }\n",
       "\n",
       "    .dataframe thead th {\n",
       "        text-align: right;\n",
       "    }\n",
       "</style>\n",
       "<table border=\"1\" class=\"dataframe\">\n",
       "  <thead>\n",
       "    <tr style=\"text-align: right;\">\n",
       "      <th></th>\n",
       "      <th>precipitation</th>\n",
       "      <th>temp_max</th>\n",
       "      <th>temp_min</th>\n",
       "      <th>wind</th>\n",
       "      <th>weather</th>\n",
       "    </tr>\n",
       "  </thead>\n",
       "  <tbody>\n",
       "    <tr>\n",
       "      <th>0</th>\n",
       "      <td>0.0</td>\n",
       "      <td>12.8</td>\n",
       "      <td>5.0</td>\n",
       "      <td>4.7</td>\n",
       "      <td>drizzle</td>\n",
       "    </tr>\n",
       "    <tr>\n",
       "      <th>1</th>\n",
       "      <td>10.9</td>\n",
       "      <td>10.6</td>\n",
       "      <td>2.8</td>\n",
       "      <td>4.5</td>\n",
       "      <td>rain</td>\n",
       "    </tr>\n",
       "    <tr>\n",
       "      <th>2</th>\n",
       "      <td>0.8</td>\n",
       "      <td>11.7</td>\n",
       "      <td>7.2</td>\n",
       "      <td>2.3</td>\n",
       "      <td>rain</td>\n",
       "    </tr>\n",
       "    <tr>\n",
       "      <th>3</th>\n",
       "      <td>20.3</td>\n",
       "      <td>12.2</td>\n",
       "      <td>5.6</td>\n",
       "      <td>4.7</td>\n",
       "      <td>rain</td>\n",
       "    </tr>\n",
       "    <tr>\n",
       "      <th>4</th>\n",
       "      <td>1.3</td>\n",
       "      <td>8.9</td>\n",
       "      <td>2.8</td>\n",
       "      <td>6.1</td>\n",
       "      <td>rain</td>\n",
       "    </tr>\n",
       "  </tbody>\n",
       "</table>\n",
       "</div>"
      ],
      "text/plain": [
       "   precipitation  temp_max  temp_min  wind  weather\n",
       "0            0.0      12.8       5.0   4.7  drizzle\n",
       "1           10.9      10.6       2.8   4.5     rain\n",
       "2            0.8      11.7       7.2   2.3     rain\n",
       "3           20.3      12.2       5.6   4.7     rain\n",
       "4            1.3       8.9       2.8   6.1     rain"
      ]
     },
     "execution_count": 20,
     "metadata": {},
     "output_type": "execute_result"
    }
   ],
   "source": [
    "df.head()"
   ]
  },
  {
   "cell_type": "code",
   "execution_count": 29,
   "id": "f15eb5b8",
   "metadata": {
    "execution": {
     "iopub.execute_input": "2024-05-21T12:59:07.812096Z",
     "iopub.status.busy": "2024-05-21T12:59:07.811713Z",
     "iopub.status.idle": "2024-05-21T12:59:07.820696Z",
     "shell.execute_reply": "2024-05-21T12:59:07.819725Z"
    },
    "papermill": {
     "duration": 0.026628,
     "end_time": "2024-05-21T12:59:07.823016",
     "exception": false,
     "start_time": "2024-05-21T12:59:07.796388",
     "status": "completed"
    },
    "tags": []
   },
   "outputs": [],
   "source": [
    "new_df = df.drop(df[df['weather'].isin([\"drizzle\"])].index,axis=0)"
   ]
  },
  {
   "cell_type": "code",
   "execution_count": 30,
   "id": "d0841aea",
   "metadata": {
    "execution": {
     "iopub.execute_input": "2024-05-21T12:59:07.852461Z",
     "iopub.status.busy": "2024-05-21T12:59:07.851675Z",
     "iopub.status.idle": "2024-05-21T12:59:07.866562Z",
     "shell.execute_reply": "2024-05-21T12:59:07.865439Z"
    },
    "papermill": {
     "duration": 0.032147,
     "end_time": "2024-05-21T12:59:07.869009",
     "exception": false,
     "start_time": "2024-05-21T12:59:07.836862",
     "status": "completed"
    },
    "tags": []
   },
   "outputs": [
    {
     "data": {
      "text/html": [
       "<div>\n",
       "<style scoped>\n",
       "    .dataframe tbody tr th:only-of-type {\n",
       "        vertical-align: middle;\n",
       "    }\n",
       "\n",
       "    .dataframe tbody tr th {\n",
       "        vertical-align: top;\n",
       "    }\n",
       "\n",
       "    .dataframe thead th {\n",
       "        text-align: right;\n",
       "    }\n",
       "</style>\n",
       "<table border=\"1\" class=\"dataframe\">\n",
       "  <thead>\n",
       "    <tr style=\"text-align: right;\">\n",
       "      <th></th>\n",
       "      <th>precipitation</th>\n",
       "      <th>temp_max</th>\n",
       "      <th>temp_min</th>\n",
       "      <th>wind</th>\n",
       "      <th>weather</th>\n",
       "    </tr>\n",
       "  </thead>\n",
       "  <tbody>\n",
       "    <tr>\n",
       "      <th>1</th>\n",
       "      <td>10.9</td>\n",
       "      <td>10.6</td>\n",
       "      <td>2.8</td>\n",
       "      <td>4.5</td>\n",
       "      <td>rain</td>\n",
       "    </tr>\n",
       "    <tr>\n",
       "      <th>2</th>\n",
       "      <td>0.8</td>\n",
       "      <td>11.7</td>\n",
       "      <td>7.2</td>\n",
       "      <td>2.3</td>\n",
       "      <td>rain</td>\n",
       "    </tr>\n",
       "    <tr>\n",
       "      <th>3</th>\n",
       "      <td>20.3</td>\n",
       "      <td>12.2</td>\n",
       "      <td>5.6</td>\n",
       "      <td>4.7</td>\n",
       "      <td>rain</td>\n",
       "    </tr>\n",
       "    <tr>\n",
       "      <th>4</th>\n",
       "      <td>1.3</td>\n",
       "      <td>8.9</td>\n",
       "      <td>2.8</td>\n",
       "      <td>6.1</td>\n",
       "      <td>rain</td>\n",
       "    </tr>\n",
       "    <tr>\n",
       "      <th>5</th>\n",
       "      <td>2.5</td>\n",
       "      <td>4.4</td>\n",
       "      <td>2.2</td>\n",
       "      <td>2.2</td>\n",
       "      <td>rain</td>\n",
       "    </tr>\n",
       "  </tbody>\n",
       "</table>\n",
       "</div>"
      ],
      "text/plain": [
       "   precipitation  temp_max  temp_min  wind weather\n",
       "1           10.9      10.6       2.8   4.5    rain\n",
       "2            0.8      11.7       7.2   2.3    rain\n",
       "3           20.3      12.2       5.6   4.7    rain\n",
       "4            1.3       8.9       2.8   6.1    rain\n",
       "5            2.5       4.4       2.2   2.2    rain"
      ]
     },
     "execution_count": 30,
     "metadata": {},
     "output_type": "execute_result"
    }
   ],
   "source": [
    "new_df.head()"
   ]
  },
  {
   "cell_type": "code",
   "execution_count": 31,
   "id": "b314533a",
   "metadata": {
    "execution": {
     "iopub.execute_input": "2024-05-21T12:59:07.898214Z",
     "iopub.status.busy": "2024-05-21T12:59:07.897811Z",
     "iopub.status.idle": "2024-05-21T12:59:07.907262Z",
     "shell.execute_reply": "2024-05-21T12:59:07.906197Z"
    },
    "papermill": {
     "duration": 0.02697,
     "end_time": "2024-05-21T12:59:07.909766",
     "exception": false,
     "start_time": "2024-05-21T12:59:07.882796",
     "status": "completed"
    },
    "tags": []
   },
   "outputs": [],
   "source": [
    "X = new_df.drop(\"weather\" ,axis=1)\n",
    "y = new_df[\"weather\"]\n",
    "\n",
    "X_train, X_test, y_train, y_test = train_test_split(X, y, test_size=0.2, random_state=9)"
   ]
  },
  {
   "cell_type": "code",
   "execution_count": 32,
   "id": "baf71356",
   "metadata": {
    "execution": {
     "iopub.execute_input": "2024-05-21T12:59:07.939829Z",
     "iopub.status.busy": "2024-05-21T12:59:07.938797Z",
     "iopub.status.idle": "2024-05-21T12:59:07.944145Z",
     "shell.execute_reply": "2024-05-21T12:59:07.942992Z"
    },
    "papermill": {
     "duration": 0.02273,
     "end_time": "2024-05-21T12:59:07.946399",
     "exception": false,
     "start_time": "2024-05-21T12:59:07.923669",
     "status": "completed"
    },
    "tags": []
   },
   "outputs": [],
   "source": [
    "random_forest = RandomForestClassifier()"
   ]
  },
  {
   "cell_type": "code",
   "execution_count": 33,
   "id": "4d964371",
   "metadata": {
    "execution": {
     "iopub.execute_input": "2024-05-21T12:59:07.975863Z",
     "iopub.status.busy": "2024-05-21T12:59:07.975134Z",
     "iopub.status.idle": "2024-05-21T12:59:07.980124Z",
     "shell.execute_reply": "2024-05-21T12:59:07.978984Z"
    },
    "papermill": {
     "duration": 0.022209,
     "end_time": "2024-05-21T12:59:07.982497",
     "exception": false,
     "start_time": "2024-05-21T12:59:07.960288",
     "status": "completed"
    },
    "tags": []
   },
   "outputs": [],
   "source": [
    "grid = GridSearchCV(random_forest, parameters, error_score=\"raise\")"
   ]
  },
  {
   "cell_type": "code",
   "execution_count": 34,
   "id": "6a7db0f5",
   "metadata": {
    "execution": {
     "iopub.execute_input": "2024-05-21T12:59:08.012495Z",
     "iopub.status.busy": "2024-05-21T12:59:08.011573Z",
     "iopub.status.idle": "2024-05-21T13:06:06.340680Z",
     "shell.execute_reply": "2024-05-21T13:06:06.339230Z"
    },
    "papermill": {
     "duration": 418.361604,
     "end_time": "2024-05-21T13:06:06.357983",
     "exception": false,
     "start_time": "2024-05-21T12:59:07.996379",
     "status": "completed"
    },
    "tags": []
   },
   "outputs": [
    {
     "data": {
      "text/html": [
       "<style>#sk-container-id-3 {color: black;background-color: white;}#sk-container-id-3 pre{padding: 0;}#sk-container-id-3 div.sk-toggleable {background-color: white;}#sk-container-id-3 label.sk-toggleable__label {cursor: pointer;display: block;width: 100%;margin-bottom: 0;padding: 0.3em;box-sizing: border-box;text-align: center;}#sk-container-id-3 label.sk-toggleable__label-arrow:before {content: \"▸\";float: left;margin-right: 0.25em;color: #696969;}#sk-container-id-3 label.sk-toggleable__label-arrow:hover:before {color: black;}#sk-container-id-3 div.sk-estimator:hover label.sk-toggleable__label-arrow:before {color: black;}#sk-container-id-3 div.sk-toggleable__content {max-height: 0;max-width: 0;overflow: hidden;text-align: left;background-color: #f0f8ff;}#sk-container-id-3 div.sk-toggleable__content pre {margin: 0.2em;color: black;border-radius: 0.25em;background-color: #f0f8ff;}#sk-container-id-3 input.sk-toggleable__control:checked~div.sk-toggleable__content {max-height: 200px;max-width: 100%;overflow: auto;}#sk-container-id-3 input.sk-toggleable__control:checked~label.sk-toggleable__label-arrow:before {content: \"▾\";}#sk-container-id-3 div.sk-estimator input.sk-toggleable__control:checked~label.sk-toggleable__label {background-color: #d4ebff;}#sk-container-id-3 div.sk-label input.sk-toggleable__control:checked~label.sk-toggleable__label {background-color: #d4ebff;}#sk-container-id-3 input.sk-hidden--visually {border: 0;clip: rect(1px 1px 1px 1px);clip: rect(1px, 1px, 1px, 1px);height: 1px;margin: -1px;overflow: hidden;padding: 0;position: absolute;width: 1px;}#sk-container-id-3 div.sk-estimator {font-family: monospace;background-color: #f0f8ff;border: 1px dotted black;border-radius: 0.25em;box-sizing: border-box;margin-bottom: 0.5em;}#sk-container-id-3 div.sk-estimator:hover {background-color: #d4ebff;}#sk-container-id-3 div.sk-parallel-item::after {content: \"\";width: 100%;border-bottom: 1px solid gray;flex-grow: 1;}#sk-container-id-3 div.sk-label:hover label.sk-toggleable__label {background-color: #d4ebff;}#sk-container-id-3 div.sk-serial::before {content: \"\";position: absolute;border-left: 1px solid gray;box-sizing: border-box;top: 0;bottom: 0;left: 50%;z-index: 0;}#sk-container-id-3 div.sk-serial {display: flex;flex-direction: column;align-items: center;background-color: white;padding-right: 0.2em;padding-left: 0.2em;position: relative;}#sk-container-id-3 div.sk-item {position: relative;z-index: 1;}#sk-container-id-3 div.sk-parallel {display: flex;align-items: stretch;justify-content: center;background-color: white;position: relative;}#sk-container-id-3 div.sk-item::before, #sk-container-id-3 div.sk-parallel-item::before {content: \"\";position: absolute;border-left: 1px solid gray;box-sizing: border-box;top: 0;bottom: 0;left: 50%;z-index: -1;}#sk-container-id-3 div.sk-parallel-item {display: flex;flex-direction: column;z-index: 1;position: relative;background-color: white;}#sk-container-id-3 div.sk-parallel-item:first-child::after {align-self: flex-end;width: 50%;}#sk-container-id-3 div.sk-parallel-item:last-child::after {align-self: flex-start;width: 50%;}#sk-container-id-3 div.sk-parallel-item:only-child::after {width: 0;}#sk-container-id-3 div.sk-dashed-wrapped {border: 1px dashed gray;margin: 0 0.4em 0.5em 0.4em;box-sizing: border-box;padding-bottom: 0.4em;background-color: white;}#sk-container-id-3 div.sk-label label {font-family: monospace;font-weight: bold;display: inline-block;line-height: 1.2em;}#sk-container-id-3 div.sk-label-container {text-align: center;}#sk-container-id-3 div.sk-container {/* jupyter's `normalize.less` sets `[hidden] { display: none; }` but bootstrap.min.css set `[hidden] { display: none !important; }` so we also need the `!important` here to be able to override the default hidden behavior on the sphinx rendered scikit-learn.org. See: https://github.com/scikit-learn/scikit-learn/issues/21755 */display: inline-block !important;position: relative;}#sk-container-id-3 div.sk-text-repr-fallback {display: none;}</style><div id=\"sk-container-id-3\" class=\"sk-top-container\"><div class=\"sk-text-repr-fallback\"><pre>GridSearchCV(error_score=&#x27;raise&#x27;, estimator=RandomForestClassifier(),\n",
       "             param_grid={&#x27;bootstrap&#x27;: [True],\n",
       "                         &#x27;max_features&#x27;: array([1, 2, 3, 4, 5, 6, 7, 8, 9]),\n",
       "                         &#x27;n_estimators&#x27;: array([30, 31, 32, 33, 34, 35, 36, 37, 38, 39, 40, 41, 42, 43, 44, 45, 46,\n",
       "       47, 48, 49, 50, 51, 52, 53, 54, 55, 56, 57, 58, 59]),\n",
       "                         &#x27;oob_score&#x27;: [True, False]})</pre><b>In a Jupyter environment, please rerun this cell to show the HTML representation or trust the notebook. <br />On GitHub, the HTML representation is unable to render, please try loading this page with nbviewer.org.</b></div><div class=\"sk-container\" hidden><div class=\"sk-item sk-dashed-wrapped\"><div class=\"sk-label-container\"><div class=\"sk-label sk-toggleable\"><input class=\"sk-toggleable__control sk-hidden--visually\" id=\"sk-estimator-id-7\" type=\"checkbox\" ><label for=\"sk-estimator-id-7\" class=\"sk-toggleable__label sk-toggleable__label-arrow\">GridSearchCV</label><div class=\"sk-toggleable__content\"><pre>GridSearchCV(error_score=&#x27;raise&#x27;, estimator=RandomForestClassifier(),\n",
       "             param_grid={&#x27;bootstrap&#x27;: [True],\n",
       "                         &#x27;max_features&#x27;: array([1, 2, 3, 4, 5, 6, 7, 8, 9]),\n",
       "                         &#x27;n_estimators&#x27;: array([30, 31, 32, 33, 34, 35, 36, 37, 38, 39, 40, 41, 42, 43, 44, 45, 46,\n",
       "       47, 48, 49, 50, 51, 52, 53, 54, 55, 56, 57, 58, 59]),\n",
       "                         &#x27;oob_score&#x27;: [True, False]})</pre></div></div></div><div class=\"sk-parallel\"><div class=\"sk-parallel-item\"><div class=\"sk-item\"><div class=\"sk-label-container\"><div class=\"sk-label sk-toggleable\"><input class=\"sk-toggleable__control sk-hidden--visually\" id=\"sk-estimator-id-8\" type=\"checkbox\" ><label for=\"sk-estimator-id-8\" class=\"sk-toggleable__label sk-toggleable__label-arrow\">estimator: RandomForestClassifier</label><div class=\"sk-toggleable__content\"><pre>RandomForestClassifier()</pre></div></div></div><div class=\"sk-serial\"><div class=\"sk-item\"><div class=\"sk-estimator sk-toggleable\"><input class=\"sk-toggleable__control sk-hidden--visually\" id=\"sk-estimator-id-9\" type=\"checkbox\" ><label for=\"sk-estimator-id-9\" class=\"sk-toggleable__label sk-toggleable__label-arrow\">RandomForestClassifier</label><div class=\"sk-toggleable__content\"><pre>RandomForestClassifier()</pre></div></div></div></div></div></div></div></div></div></div>"
      ],
      "text/plain": [
       "GridSearchCV(error_score='raise', estimator=RandomForestClassifier(),\n",
       "             param_grid={'bootstrap': [True],\n",
       "                         'max_features': array([1, 2, 3, 4, 5, 6, 7, 8, 9]),\n",
       "                         'n_estimators': array([30, 31, 32, 33, 34, 35, 36, 37, 38, 39, 40, 41, 42, 43, 44, 45, 46,\n",
       "       47, 48, 49, 50, 51, 52, 53, 54, 55, 56, 57, 58, 59]),\n",
       "                         'oob_score': [True, False]})"
      ]
     },
     "execution_count": 34,
     "metadata": {},
     "output_type": "execute_result"
    }
   ],
   "source": [
    "grid.fit(X_train, y_train)"
   ]
  },
  {
   "cell_type": "code",
   "execution_count": 27,
   "id": "a4c72114",
   "metadata": {
    "execution": {
     "iopub.execute_input": "2024-05-21T13:06:06.388629Z",
     "iopub.status.busy": "2024-05-21T13:06:06.388167Z",
     "iopub.status.idle": "2024-05-21T13:06:06.402773Z",
     "shell.execute_reply": "2024-05-21T13:06:06.401626Z"
    },
    "papermill": {
     "duration": 0.033468,
     "end_time": "2024-05-21T13:06:06.405732",
     "exception": false,
     "start_time": "2024-05-21T13:06:06.372264",
     "status": "completed"
    },
    "tags": []
   },
   "outputs": [],
   "source": [
    "weather_pred = grid.predict(X_test)"
   ]
  },
  {
   "cell_type": "code",
   "execution_count": 28,
   "id": "a08cf05f",
   "metadata": {
    "execution": {
     "iopub.execute_input": "2024-05-21T13:06:06.436413Z",
     "iopub.status.busy": "2024-05-21T13:06:06.435565Z",
     "iopub.status.idle": "2024-05-21T13:06:06.850974Z",
     "shell.execute_reply": "2024-05-21T13:06:06.849573Z"
    },
    "papermill": {
     "duration": 0.434437,
     "end_time": "2024-05-21T13:06:06.854468",
     "exception": false,
     "start_time": "2024-05-21T13:06:06.420031",
     "status": "completed"
    },
    "tags": []
   },
   "outputs": [
    {
     "name": "stdout",
     "output_type": "stream",
     "text": [
      "              precision    recall  f1-score   support\n",
      "\n",
      "        rain       0.97      0.91      0.94       119\n",
      "        snow       0.00      0.00      0.00         1\n",
      "         sun       0.93      0.99      0.96       142\n",
      "\n",
      "    accuracy                           0.95       262\n",
      "   macro avg       0.63      0.63      0.63       262\n",
      "weighted avg       0.94      0.95      0.94       262\n",
      " \n",
      "\n"
     ]
    },
    {
     "name": "stderr",
     "output_type": "stream",
     "text": [
      "C:\\Users\\priya\\AppData\\Local\\Packages\\PythonSoftwareFoundation.Python.3.10_qbz5n2kfra8p0\\LocalCache\\local-packages\\Python310\\site-packages\\sklearn\\metrics\\_classification.py:1344: UndefinedMetricWarning: Precision and F-score are ill-defined and being set to 0.0 in labels with no predicted samples. Use `zero_division` parameter to control this behavior.\n",
      "  _warn_prf(average, modifier, msg_start, len(result))\n",
      "C:\\Users\\priya\\AppData\\Local\\Packages\\PythonSoftwareFoundation.Python.3.10_qbz5n2kfra8p0\\LocalCache\\local-packages\\Python310\\site-packages\\sklearn\\metrics\\_classification.py:1344: UndefinedMetricWarning: Precision and F-score are ill-defined and being set to 0.0 in labels with no predicted samples. Use `zero_division` parameter to control this behavior.\n",
      "  _warn_prf(average, modifier, msg_start, len(result))\n",
      "C:\\Users\\priya\\AppData\\Local\\Packages\\PythonSoftwareFoundation.Python.3.10_qbz5n2kfra8p0\\LocalCache\\local-packages\\Python310\\site-packages\\sklearn\\metrics\\_classification.py:1344: UndefinedMetricWarning: Precision and F-score are ill-defined and being set to 0.0 in labels with no predicted samples. Use `zero_division` parameter to control this behavior.\n",
      "  _warn_prf(average, modifier, msg_start, len(result))\n"
     ]
    },
    {
     "data": {
      "text/plain": [
       "<Figure size 2400x1600 with 0 Axes>"
      ]
     },
     "execution_count": 28,
     "metadata": {},
     "output_type": "execute_result"
    },
    {
     "data": {
      "image/png": "[encoded data removed]",
      "text/plain": [
       "<Figure size 640x480 with 2 Axes>"
      ]
     },
     "metadata": {},
     "output_type": "display_data"
    },
    {
     "data": {
      "text/plain": [
       "<Figure size 2400x1600 with 0 Axes>"
      ]
     },
     "metadata": {},
     "output_type": "display_data"
    }
   ],
   "source": [
    "ConfusionMatrixDisplay.from_estimator(grid, X_test, y_test)\n",
    "print(classification_report(y_test, weather_pred), \"\\n\")\n",
    "plt.figure(figsize=(12,8), dpi=200)"
   ]
  },
  {
   "cell_type": "code",
   "execution_count": 35,
   "id": "368b21a3",
   "metadata": {
    "papermill": {
     "duration": 0.018319,
     "end_time": "2024-05-21T13:06:06.892697",
     "exception": false,
     "start_time": "2024-05-21T13:06:06.874378",
     "status": "completed"
    },
    "tags": []
   },
   "outputs": [],
   "source": [
    "import pickle\n",
    "# Save the model to a file\n",
    "with open('weather_model.pkl', 'wb') as file:\n",
    "    pickle.dump(grid, file)\n"
   ]
  }
 ],
 "metadata": {
  "kaggle": {
   "accelerator": "none",
   "dataSources": [
    {
     "datasetId": 1868601,
     "sourceId": 3051857,
     "sourceType": "datasetVersion"
    }
   ],
   "dockerImageVersionId": 30698,
   "isGpuEnabled": false,
   "isInternetEnabled": false,
   "language": "python",
   "sourceType": "notebook"
  },
  "kernelspec": {
   "display_name": "Python 3",
   "language": "python",
   "name": "python3"
  },
  "language_info": {
   "codemirror_mode": {
    "name": "ipython",
    "version": 3
   },
   "file_extension": ".py",
   "mimetype": "text/x-python",
   "name": "python",
   "nbconvert_exporter": "python",
   "pygments_lexer": "ipython3",
   "version": "3.10.11"
  },
  "papermill": {
   "default_parameters": {},
   "duration": 890.423195,
   "end_time": "2024-05-21T13:06:07.638000",
   "environment_variables": {},
   "exception": null,
   "input_path": "__notebook__.ipynb",
   "output_path": "__notebook__.ipynb",
   "parameters": {},
   "start_time": "2024-05-21T12:51:17.214805",
   "version": "2.5.0"
  }
 },
 "nbformat": 4,
 "nbformat_minor": 5
}
